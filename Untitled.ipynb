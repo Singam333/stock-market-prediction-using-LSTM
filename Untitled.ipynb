{
 "cells": [
  {
   "cell_type": "code",
   "execution_count": 1,
   "metadata": {},
   "outputs": [],
   "source": [
    "import pandas as pd"
   ]
  },
  {
   "cell_type": "code",
   "execution_count": 2,
   "metadata": {},
   "outputs": [],
   "source": [
    "d=pd.read_csv(\"tata_motors.csv\")"
   ]
  },
  {
   "cell_type": "code",
   "execution_count": 3,
   "metadata": {},
   "outputs": [
    {
     "data": {
      "text/plain": [
       "(733, 5)"
      ]
     },
     "execution_count": 3,
     "metadata": {},
     "output_type": "execute_result"
    }
   ],
   "source": [
    "d.shape"
   ]
  },
  {
   "cell_type": "code",
   "execution_count": 4,
   "metadata": {},
   "outputs": [],
   "source": [
    "d1=d[:701]"
   ]
  },
  {
   "cell_type": "code",
   "execution_count": 5,
   "metadata": {},
   "outputs": [],
   "source": [
    "d1=d1[\"high\"]"
   ]
  },
  {
   "cell_type": "code",
   "execution_count": 6,
   "metadata": {},
   "outputs": [],
   "source": [
    "from sklearn.preprocessing import MinMaxScaler\n",
    "import numpy as np\n",
    "scaler=MinMaxScaler(feature_range=(0,1))\n",
    "d1=scaler.fit_transform(np.array(d1).reshape(-1,1))"
   ]
  },
  {
   "cell_type": "code",
   "execution_count": 7,
   "metadata": {},
   "outputs": [],
   "source": [
    "training_size=int(len(d1)*0.65)\n",
    "test_size=len(d1)-training_size\n",
    "train_data,test_data=d1[0:training_size,:],d1[training_size:len(d1),:1]"
   ]
  },
  {
   "cell_type": "code",
   "execution_count": 8,
   "metadata": {},
   "outputs": [],
   "source": [
    "def create_dataset(dataset, time_step=1):\n",
    "    dataX, dataY = [], []\n",
    "    for i in range(len(dataset)-time_step-1):\n",
    "        a = dataset[i:(i+time_step)]   ###i=0, 0,1,2,3-----99   100 \n",
    "        dataX.append(a)\n",
    "        dataY.append(dataset[i + time_step])\n",
    "    return np.array(dataX), np.array(dataY)"
   ]
  },
  {
   "cell_type": "code",
   "execution_count": 9,
   "metadata": {},
   "outputs": [],
   "source": [
    "time_step = 100\n",
    "X_train, y_train = create_dataset(train_data, time_step)\n",
    "X_test, ytest = create_dataset(test_data, time_step)"
   ]
  },
  {
   "cell_type": "code",
   "execution_count": 10,
   "metadata": {},
   "outputs": [],
   "source": [
    "from tensorflow.keras.models import Sequential\n",
    "from tensorflow.keras.layers import Dense\n",
    "from tensorflow.keras.layers import LSTM,Dropout"
   ]
  },
  {
   "cell_type": "code",
   "execution_count": 11,
   "metadata": {},
   "outputs": [
    {
     "name": "stdout",
     "output_type": "stream",
     "text": [
      "WARNING:tensorflow:From C:\\Users\\Sinagam Pradeep\\Anaconda3\\lib\\site-packages\\tensorflow\\python\\ops\\init_ops.py:1251: calling VarianceScaling.__init__ (from tensorflow.python.ops.init_ops) with dtype is deprecated and will be removed in a future version.\n",
      "Instructions for updating:\n",
      "Call initializer instance with the dtype argument instead of passing it to the constructor\n"
     ]
    }
   ],
   "source": [
    "model=Sequential()\n",
    "model.add(LSTM(50,return_sequences=True,input_shape=(100,1)))\n",
    "model.add(Dropout(0.2))\n",
    "model.add(LSTM(50,return_sequences=True))\n",
    "model.add(Dropout(0.1))\n",
    "model.add(LSTM(50,return_sequences=True))\n",
    "model.add(Dropout(0.05))\n",
    "model.add(LSTM(50))\n",
    "model.add(Dense(1))\n",
    "model.compile(loss='mean_squared_error',optimizer='adam')"
   ]
  },
  {
   "cell_type": "code",
   "execution_count": 13,
   "metadata": {},
   "outputs": [],
   "source": [
    "import tensorflow as tf\n",
    "e_r=tf.keras.callbacks.EarlyStopping(\n",
    "    monitor='val_loss', patience=7, verbose=0, mode='auto',\n",
    "    baseline=None, restore_best_weights=True\n",
    ")"
   ]
  },
  {
   "cell_type": "code",
   "execution_count": 14,
   "metadata": {},
   "outputs": [
    {
     "name": "stdout",
     "output_type": "stream",
     "text": [
      "Train on 354 samples, validate on 145 samples\n",
      "WARNING:tensorflow:From C:\\Users\\Sinagam Pradeep\\Anaconda3\\lib\\site-packages\\tensorflow\\python\\ops\\math_grad.py:1250: add_dispatch_support.<locals>.wrapper (from tensorflow.python.ops.array_ops) is deprecated and will be removed in a future version.\n",
      "Instructions for updating:\n",
      "Use tf.where in 2.0, which has the same broadcast rule as np.where\n",
      "Epoch 1/100\n",
      "354/354 - 6s - loss: 0.2360 - val_loss: 0.0068\n",
      "Epoch 2/100\n",
      "354/354 - 2s - loss: 0.0407 - val_loss: 0.0209\n",
      "Epoch 3/100\n",
      "354/354 - 2s - loss: 0.0233 - val_loss: 0.0094\n",
      "Epoch 4/100\n",
      "354/354 - 2s - loss: 0.0174 - val_loss: 0.0359\n",
      "Epoch 5/100\n",
      "354/354 - 2s - loss: 0.0146 - val_loss: 0.0153\n",
      "Epoch 6/100\n",
      "354/354 - 2s - loss: 0.0104 - val_loss: 0.0113\n",
      "Epoch 7/100\n",
      "354/354 - 2s - loss: 0.0074 - val_loss: 0.0123\n",
      "Epoch 8/100\n",
      "354/354 - 2s - loss: 0.0044 - val_loss: 0.0056\n",
      "Epoch 9/100\n",
      "354/354 - 2s - loss: 0.0036 - val_loss: 0.0056\n",
      "Epoch 10/100\n",
      "354/354 - 2s - loss: 0.0031 - val_loss: 0.0045\n",
      "Epoch 11/100\n",
      "354/354 - 2s - loss: 0.0024 - val_loss: 0.0045\n",
      "Epoch 12/100\n",
      "354/354 - 2s - loss: 0.0026 - val_loss: 0.0045\n",
      "Epoch 13/100\n",
      "354/354 - 2s - loss: 0.0025 - val_loss: 0.0044\n",
      "Epoch 14/100\n",
      "354/354 - 2s - loss: 0.0026 - val_loss: 0.0044\n",
      "Epoch 15/100\n",
      "354/354 - 2s - loss: 0.0026 - val_loss: 0.0044\n",
      "Epoch 16/100\n",
      "354/354 - 2s - loss: 0.0023 - val_loss: 0.0044\n",
      "Epoch 17/100\n",
      "354/354 - 2s - loss: 0.0027 - val_loss: 0.0046\n",
      "Epoch 18/100\n",
      "354/354 - 2s - loss: 0.0024 - val_loss: 0.0044\n",
      "Epoch 19/100\n",
      "354/354 - 2s - loss: 0.0026 - val_loss: 0.0047\n",
      "Epoch 20/100\n",
      "354/354 - 2s - loss: 0.0030 - val_loss: 0.0043\n",
      "Epoch 21/100\n",
      "354/354 - 2s - loss: 0.0027 - val_loss: 0.0044\n",
      "Epoch 22/100\n",
      "354/354 - 2s - loss: 0.0025 - val_loss: 0.0045\n",
      "Epoch 23/100\n",
      "354/354 - 2s - loss: 0.0021 - val_loss: 0.0044\n",
      "Epoch 24/100\n",
      "354/354 - 2s - loss: 0.0025 - val_loss: 0.0043\n",
      "Epoch 25/100\n",
      "354/354 - 2s - loss: 0.0025 - val_loss: 0.0045\n",
      "Epoch 26/100\n",
      "354/354 - 2s - loss: 0.0025 - val_loss: 0.0043\n",
      "Epoch 27/100\n",
      "354/354 - 2s - loss: 0.0024 - val_loss: 0.0044\n",
      "Epoch 28/100\n",
      "354/354 - 2s - loss: 0.0022 - val_loss: 0.0044\n",
      "Epoch 29/100\n",
      "354/354 - 2s - loss: 0.0022 - val_loss: 0.0043\n",
      "Epoch 30/100\n",
      "354/354 - 2s - loss: 0.0023 - val_loss: 0.0044\n",
      "Epoch 31/100\n",
      "354/354 - 2s - loss: 0.0022 - val_loss: 0.0044\n"
     ]
    },
    {
     "data": {
      "text/plain": [
       "<tensorflow.python.keras.callbacks.History at 0x2d39ffe1da0>"
      ]
     },
     "execution_count": 14,
     "metadata": {},
     "output_type": "execute_result"
    }
   ],
   "source": [
    "model.fit(X_train,y_train,validation_data=(X_test,ytest),epochs=100,batch_size=64,verbose=2,callbacks=[e_r])"
   ]
  },
  {
   "cell_type": "code",
   "execution_count": 15,
   "metadata": {},
   "outputs": [],
   "source": [
    "train_predict=model.predict(X_train)\n",
    "test_predict=model.predict(X_test)"
   ]
  },
  {
   "cell_type": "code",
   "execution_count": 16,
   "metadata": {},
   "outputs": [],
   "source": [
    "train_predict=scaler.inverse_transform(train_predict)\n",
    "test_predict=scaler.inverse_transform(test_predict)"
   ]
  },
  {
   "cell_type": "code",
   "execution_count": 17,
   "metadata": {},
   "outputs": [
    {
     "data": {
      "text/plain": [
       "293.39641419432337"
      ]
     },
     "execution_count": 17,
     "metadata": {},
     "output_type": "execute_result"
    }
   ],
   "source": [
    "import math\n",
    "from sklearn.metrics import mean_squared_error\n",
    "math.sqrt(mean_squared_error(y_train,train_predict))"
   ]
  },
  {
   "cell_type": "code",
   "execution_count": 18,
   "metadata": {},
   "outputs": [
    {
     "data": {
      "text/plain": [
       "155.08527981803286"
      ]
     },
     "execution_count": 18,
     "metadata": {},
     "output_type": "execute_result"
    }
   ],
   "source": [
    "math.sqrt(mean_squared_error(ytest,test_predict))"
   ]
  },
  {
   "cell_type": "code",
   "execution_count": 21,
   "metadata": {},
   "outputs": [
    {
     "data": {
      "text/plain": [
       "[<matplotlib.lines.Line2D at 0x2d3aebe15c0>]"
      ]
     },
     "execution_count": 21,
     "metadata": {},
     "output_type": "execute_result"
    },
    {
     "data": {
      "image/png": "[encoded data removed]",
      "text/plain": [
       "<Figure size 432x288 with 1 Axes>"
      ]
     },
     "metadata": {
      "needs_background": "light"
     },
     "output_type": "display_data"
    }
   ],
   "source": [
    "import matplotlib.pyplot as plt\n",
    "look_back=100\n",
    "trainPredictPlot = np.empty_like(d1)\n",
    "trainPredictPlot[:, :] = np.nan\n",
    "trainPredictPlot[look_back:len(train_predict)+look_back, :] = train_predict\n",
    "# shift test predictions for plotting\n",
    "testPredictPlot = np.empty_like(d1)\n",
    "testPredictPlot[:, :] = np.nan\n",
    "testPredictPlot[len(train_predict)+(look_back*2)+1:len(d1)-1, :] = test_predict\n",
    "# plot baseline and predictions\n",
    "plt.plot(scaler.inverse_transform(d1))\n",
    "plt.plot(trainPredictPlot)\n",
    "plt.plot(testPredictPlot)"
   ]
  },
  {
   "cell_type": "code",
   "execution_count": 38,
   "metadata": {},
   "outputs": [
    {
     "data": {
      "text/plain": [
       "(1, 100)"
      ]
     },
     "execution_count": 38,
     "metadata": {},
     "output_type": "execute_result"
    }
   ],
   "source": [
    "x_input=test_data[146:].reshape(1,-1)\n",
    "x_input.shape"
   ]
  },
  {
   "cell_type": "code",
   "execution_count": 39,
   "metadata": {},
   "outputs": [],
   "source": [
    "temp_input=list(x_input)\n",
    "temp_input=temp_input[0].tolist()"
   ]
  },
  {
   "cell_type": "code",
   "execution_count": 41,
   "metadata": {},
   "outputs": [
    {
     "name": "stdout",
     "output_type": "stream",
     "text": [
      "[[0.12948907911777496], [0.1308860182762146], [0.13225120306015015], [0.13358548283576965], [0.13488954305648804], [0.1361641138792038], [0.13740992546081543], [0.13862770795822144], [0.13981802761554718], [0.14098171889781952], [0.1421193927526474], [0.14323168992996216], [0.14431920647621155], [0.14538265764713287], [0.1464226394891739], [0.14743974804878235], [0.14843447506427765], [0.14940746128559113], [0.15035928785800934], [0.1512903869152069], [0.15220129489898682], [0.15309253334999084], [0.15396460890769958], [0.15481789410114288], [0.15565292537212372], [0.15647010505199432], [0.1572698950767517], [0.1580527126789093], [0.15881890058517456], [0.1595688760280609], [0.1603030413389206], [0.16102173924446106]]\n"
     ]
    }
   ],
   "source": [
    "from numpy import array\n",
    "\n",
    "lst_output=[]\n",
    "n_steps=100\n",
    "i=0\n",
    "while(i<32):\n",
    "    \n",
    "    if(len(temp_input)>100):\n",
    "        #print(temp_input)\n",
    "        x_input=np.array(temp_input[1:])\n",
    "        x_input=x_input.reshape(1,-1)\n",
    "        x_input = x_input.reshape((1, n_steps, 1))\n",
    "        #print(x_input)\n",
    "        yhat = model.predict(x_input, verbose=0)\n",
    "        temp_input.extend(yhat[0].tolist())\n",
    "        temp_input=temp_input[1:]\n",
    "        #print(temp_input)\n",
    "        lst_output.extend(yhat.tolist())\n",
    "        i=i+1\n",
    "    else:\n",
    "        x_input = x_input.reshape((1, n_steps,1))\n",
    "        yhat = model.predict(x_input, verbose=0)\n",
    "        print(yhat[0])\n",
    "        temp_input.extend(yhat[0].tolist())\n",
    "        print(len(temp_input))\n",
    "        lst_output.extend(yhat.tolist())\n",
    "        print(\"*\"*100)\n",
    "        i=i+1\n",
    "    \n",
    "\n",
    "print(lst_output)"
   ]
  },
  {
   "cell_type": "code",
   "execution_count": 42,
   "metadata": {},
   "outputs": [
    {
     "data": {
      "text/plain": [
       "array([[119.19416634],\n",
       "       [119.75832022],\n",
       "       [120.30965009],\n",
       "       [120.84849898],\n",
       "       [121.37514369],\n",
       "       [121.88987912],\n",
       "       [122.39300012],\n",
       "       [122.88480158],\n",
       "       [123.36551217],\n",
       "       [123.83546889],\n",
       "       [124.29491848],\n",
       "       [124.74411969],\n",
       "       [125.18331325],\n",
       "       [125.612788  ],\n",
       "       [126.03278466],\n",
       "       [126.44354395],\n",
       "       [126.84526446],\n",
       "       [127.23820494],\n",
       "       [127.6226001 ],\n",
       "       [127.99862445],\n",
       "       [128.36649464],\n",
       "       [128.72642129],\n",
       "       [129.078609  ],\n",
       "       [129.42320822],\n",
       "       [129.7604356 ],\n",
       "       [130.09045361],\n",
       "       [130.41344881],\n",
       "       [130.7295897 ],\n",
       "       [131.03901468],\n",
       "       [131.34189226],\n",
       "       [131.63838492],\n",
       "       [131.92863107]])"
      ]
     },
     "execution_count": 42,
     "metadata": {},
     "output_type": "execute_result"
    }
   ],
   "source": [
    "scaler.inverse_transform(lst_output)"
   ]
  }
 ],
 "metadata": {
  "kernelspec": {
   "display_name": "Python 3",
   "language": "python",
   "name": "python3"
  },
  "language_info": {
   "codemirror_mode": {
    "name": "ipython",
    "version": 3
   },
   "file_extension": ".py",
   "mimetype": "text/x-python",
   "name": "python",
   "nbconvert_exporter": "python",
   "pygments_lexer": "ipython3",
   "version": "3.7.3"
  }
 },
 "nbformat": 4,
 "nbformat_minor": 2
}
